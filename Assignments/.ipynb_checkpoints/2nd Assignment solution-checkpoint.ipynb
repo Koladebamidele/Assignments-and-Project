{
 "cells": [
  {
   "cell_type": "markdown",
   "id": "e760fa78",
   "metadata": {},
   "source": [
    "# Assignment Solution"
   ]
  },
  {
   "cell_type": "markdown",
   "id": "44b511db",
   "metadata": {},
   "source": [
    "# Interest Calculator"
   ]
  },
  {
   "cell_type": "code",
   "execution_count": 4,
   "id": "02f783a4",
   "metadata": {},
   "outputs": [
    {
     "data": {
      "text/plain": [
       "194.87171000000012"
      ]
     },
     "execution_count": 4,
     "metadata": {},
     "output_type": "execute_result"
    }
   ],
   "source": [
    "(100 * 1.1**7)"
   ]
  },
  {
   "cell_type": "code",
   "execution_count": 9,
   "id": "76fe6bd9",
   "metadata": {},
   "outputs": [
    {
     "name": "stdout",
     "output_type": "stream",
     "text": [
      "194.87171000000012\n"
     ]
    }
   ],
   "source": [
    "#using only variables\n",
    "a = 100\n",
    "b = 1.1\n",
    "result = a * b**7\n",
    "print(result)\n"
   ]
  },
  {
   "cell_type": "markdown",
   "id": "b0835e96",
   "metadata": {},
   "source": [
    "# List"
   ]
  },
  {
   "cell_type": "code",
   "execution_count": 2,
   "id": "18b125c5",
   "metadata": {},
   "outputs": [
    {
     "data": {
      "text/plain": [
       "[11.25, 18.0, 20.0, 10.75, 9.5]"
      ]
     },
     "execution_count": 2,
     "metadata": {},
     "output_type": "execute_result"
    }
   ],
   "source": [
    "#using the predefined variables\n",
    "areas = [11.25, 18.0, 20.0, 10.75, 9.50]\n",
    "areas"
   ]
  },
  {
   "cell_type": "code",
   "execution_count": 3,
   "id": "d927d8ca",
   "metadata": {},
   "outputs": [
    {
     "name": "stdout",
     "output_type": "stream",
     "text": [
      "[11.25, 18.0, 20.0, 10.75, 9.5]\n"
     ]
    }
   ],
   "source": [
    "#using the print()\n",
    "print(areas)"
   ]
  },
  {
   "cell_type": "code",
   "execution_count": 7,
   "id": "b2e540bf",
   "metadata": {},
   "outputs": [
    {
     "name": "stdout",
     "output_type": "stream",
     "text": [
      "[11.25, 18.0, 20.0, 10.75, 9.5]\n"
     ]
    }
   ],
   "source": [
    "#adding the strings\n",
    "hall = 11.25\n",
    "kit = 18.0\n",
    "liv = 20.0\n",
    "bed = 10.75\n",
    "bath = 9.50\n",
    "areas = [hall, kit, liv, bed, bath]\n",
    "print(areas)\n"
   ]
  },
  {
   "cell_type": "code",
   "execution_count": 8,
   "id": "1d4c4c71",
   "metadata": {},
   "outputs": [
    {
     "data": {
      "text/plain": [
       "['hallway',\n",
       " 11.25,\n",
       " 'kitchen',\n",
       " 18.0,\n",
       " 'living room',\n",
       " 20.0,\n",
       " 'bedroom',\n",
       " 10.75,\n",
       " 'bathroom',\n",
       " 9.5]"
      ]
     },
     "execution_count": 8,
     "metadata": {},
     "output_type": "execute_result"
    }
   ],
   "source": [
    "areas = [\"hallway\", 11.25, \"kitchen\", 18.0, \"living room\", 20.0, \"bedroom\", 10.75, \"bathroom\", 9.50]\n",
    "areas"
   ]
  },
  {
   "cell_type": "code",
   "execution_count": 9,
   "id": "ccd96171",
   "metadata": {},
   "outputs": [
    {
     "name": "stdout",
     "output_type": "stream",
     "text": [
      "['hallway', 11.25, 'kitchen', 18.0, 'chill zone', 20.0, 'bedroom', 10.75, 'bathroom', 10.5]\n"
     ]
    }
   ],
   "source": [
    "#changing value of bathroom from 9.5 to 10.5\n",
    "areas[-1] = 10.50\n",
    "#changing \"living room\" to \"chill zone\"\n",
    "areas[-6] = \"chill zone\"\n",
    "print(areas)"
   ]
  },
  {
   "cell_type": "code",
   "execution_count": null,
   "id": "e5791148",
   "metadata": {},
   "outputs": [],
   "source": []
  }
 ],
 "metadata": {
  "kernelspec": {
   "display_name": "Python 3 (ipykernel)",
   "language": "python",
   "name": "python3"
  },
  "language_info": {
   "codemirror_mode": {
    "name": "ipython",
    "version": 3
   },
   "file_extension": ".py",
   "mimetype": "text/x-python",
   "name": "python",
   "nbconvert_exporter": "python",
   "pygments_lexer": "ipython3",
   "version": "3.9.7"
  }
 },
 "nbformat": 4,
 "nbformat_minor": 5
}
