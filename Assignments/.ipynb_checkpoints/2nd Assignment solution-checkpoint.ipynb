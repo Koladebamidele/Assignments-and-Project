{
 "cells": [
  {
   "cell_type": "markdown",
   "id": "44b511db",
   "metadata": {},
   "source": [
    "# Interest Calculator"
   ]
  },
  {
   "cell_type": "code",
   "execution_count": 4,
   "id": "02f783a4",
   "metadata": {},
   "outputs": [
    {
     "data": {
      "text/plain": [
       "194.87171000000012"
      ]
     },
     "execution_count": 4,
     "metadata": {},
     "output_type": "execute_result"
    }
   ],
   "source": [
    "(100 * 1.1**7)"
   ]
  },
  {
   "cell_type": "code",
   "execution_count": 9,
   "id": "76fe6bd9",
   "metadata": {},
   "outputs": [
    {
     "name": "stdout",
     "output_type": "stream",
     "text": [
      "194.87171000000012\n"
     ]
    }
   ],
   "source": [
    "a = 100\n",
    "b = 1.1\n",
    "result = a * b**7\n",
    "print(result)\n"
   ]
  },
  {
   "cell_type": "markdown",
   "id": "b0835e96",
   "metadata": {},
   "source": [
    "# List"
   ]
  },
  {
   "cell_type": "code",
   "execution_count": null,
   "id": "303487e1",
   "metadata": {},
   "outputs": [],
   "source": []
  }
 ],
 "metadata": {
  "kernelspec": {
   "display_name": "Python 3 (ipykernel)",
   "language": "python",
   "name": "python3"
  },
  "language_info": {
   "codemirror_mode": {
    "name": "ipython",
    "version": 3
   },
   "file_extension": ".py",
   "mimetype": "text/x-python",
   "name": "python",
   "nbconvert_exporter": "python",
   "pygments_lexer": "ipython3",
   "version": "3.9.7"
  }
 },
 "nbformat": 4,
 "nbformat_minor": 5
}
